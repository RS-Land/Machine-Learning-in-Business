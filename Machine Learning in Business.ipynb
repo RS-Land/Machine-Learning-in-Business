{
 "cells": [
  {
   "cell_type": "markdown",
   "metadata": {},
   "source": [
    "# Project description"
   ]
  },
  {
   "cell_type": "markdown",
   "metadata": {},
   "source": [
    "The OilyGiant mining company wants to find the best place for a new well.\n",
    "\n",
    "Steps to choose the location:\n",
    "\n",
    "- Collect the oil well parameters in the selected region: oil quality and volume of reserves;\n",
    "- Build a model for predicting the volume of reserves in the new wells;\n",
    "- Pick the oil wells with the highest estimated values;\n",
    "- Pick the region with the highest total profit for the selected oil wells.\n",
    "\n",
    "We have data on oil samples from three regions. Parameters of each oil well in the region are already known. \n",
    "We should build a model that will help to pick the region with the highest profit margin. Analyze potential profit and risks using the Bootstrapping technique."
   ]
  },
  {
   "cell_type": "markdown",
   "metadata": {},
   "source": [
    "## Download and prepare the data "
   ]
  },
  {
   "cell_type": "code",
   "execution_count": 1,
   "metadata": {},
   "outputs": [],
   "source": [
    "import pandas as pd\n",
    "from sklearn.linear_model import LinearRegression\n",
    "from sklearn.model_selection import train_test_split\n",
    "from sklearn.metrics import f1_score\n",
    "import matplotlib.pyplot as plt\n",
    "import numpy as np \n",
    "import seaborn as sns\n",
    "from scipy import stats as st\n",
    "from joblib import dump\n",
    "from sklearn.metrics import accuracy_score \n",
    "from sklearn.model_selection import GridSearchCV\n",
    "from sklearn.preprocessing import OrdinalEncoder \n",
    "from sklearn.metrics import confusion_matrix\n",
    "from sklearn.metrics import recall_score\n",
    "from sklearn.metrics import precision_score\n",
    "from sklearn.metrics import f1_score\n",
    "from sklearn.utils import shuffle\n",
    "from sklearn.metrics import roc_curve\n",
    "from sklearn import metrics\n",
    "from sklearn.metrics import roc_auc_score\n",
    "from sklearn.metrics import mean_squared_error"
   ]
  },
  {
   "cell_type": "code",
   "execution_count": 2,
   "metadata": {},
   "outputs": [
    {
     "name": "stdout",
     "output_type": "stream",
     "text": [
      "<class 'pandas.core.frame.DataFrame'>\n",
      "RangeIndex: 100000 entries, 0 to 99999\n",
      "Data columns (total 5 columns):\n",
      " #   Column   Non-Null Count   Dtype  \n",
      "---  ------   --------------   -----  \n",
      " 0   id       100000 non-null  object \n",
      " 1   f0       100000 non-null  float64\n",
      " 2   f1       100000 non-null  float64\n",
      " 3   f2       100000 non-null  float64\n",
      " 4   product  100000 non-null  float64\n",
      "dtypes: float64(4), object(1)\n",
      "memory usage: 3.8+ MB\n"
     ]
    }
   ],
   "source": [
    "geo_0 = pd.read_csv('/datasets/geo_data_0.csv')\n",
    "geo_0.info()"
   ]
  },
  {
   "cell_type": "code",
   "execution_count": 3,
   "metadata": {},
   "outputs": [
    {
     "data": {
      "text/html": [
       "<div>\n",
       "<style scoped>\n",
       "    .dataframe tbody tr th:only-of-type {\n",
       "        vertical-align: middle;\n",
       "    }\n",
       "\n",
       "    .dataframe tbody tr th {\n",
       "        vertical-align: top;\n",
       "    }\n",
       "\n",
       "    .dataframe thead th {\n",
       "        text-align: right;\n",
       "    }\n",
       "</style>\n",
       "<table border=\"1\" class=\"dataframe\">\n",
       "  <thead>\n",
       "    <tr style=\"text-align: right;\">\n",
       "      <th></th>\n",
       "      <th>f0</th>\n",
       "      <th>f1</th>\n",
       "      <th>f2</th>\n",
       "      <th>product</th>\n",
       "    </tr>\n",
       "  </thead>\n",
       "  <tbody>\n",
       "    <tr>\n",
       "      <th>count</th>\n",
       "      <td>100000.000000</td>\n",
       "      <td>100000.000000</td>\n",
       "      <td>100000.000000</td>\n",
       "      <td>100000.000000</td>\n",
       "    </tr>\n",
       "    <tr>\n",
       "      <th>mean</th>\n",
       "      <td>0.500419</td>\n",
       "      <td>0.250143</td>\n",
       "      <td>2.502647</td>\n",
       "      <td>92.500000</td>\n",
       "    </tr>\n",
       "    <tr>\n",
       "      <th>std</th>\n",
       "      <td>0.871832</td>\n",
       "      <td>0.504433</td>\n",
       "      <td>3.248248</td>\n",
       "      <td>44.288691</td>\n",
       "    </tr>\n",
       "    <tr>\n",
       "      <th>min</th>\n",
       "      <td>-1.408605</td>\n",
       "      <td>-0.848218</td>\n",
       "      <td>-12.088328</td>\n",
       "      <td>0.000000</td>\n",
       "    </tr>\n",
       "    <tr>\n",
       "      <th>25%</th>\n",
       "      <td>-0.072580</td>\n",
       "      <td>-0.200881</td>\n",
       "      <td>0.287748</td>\n",
       "      <td>56.497507</td>\n",
       "    </tr>\n",
       "    <tr>\n",
       "      <th>50%</th>\n",
       "      <td>0.502360</td>\n",
       "      <td>0.250252</td>\n",
       "      <td>2.515969</td>\n",
       "      <td>91.849972</td>\n",
       "    </tr>\n",
       "    <tr>\n",
       "      <th>75%</th>\n",
       "      <td>1.073581</td>\n",
       "      <td>0.700646</td>\n",
       "      <td>4.715088</td>\n",
       "      <td>128.564089</td>\n",
       "    </tr>\n",
       "    <tr>\n",
       "      <th>max</th>\n",
       "      <td>2.362331</td>\n",
       "      <td>1.343769</td>\n",
       "      <td>16.003790</td>\n",
       "      <td>185.364347</td>\n",
       "    </tr>\n",
       "  </tbody>\n",
       "</table>\n",
       "</div>"
      ],
      "text/plain": [
       "                  f0             f1             f2        product\n",
       "count  100000.000000  100000.000000  100000.000000  100000.000000\n",
       "mean        0.500419       0.250143       2.502647      92.500000\n",
       "std         0.871832       0.504433       3.248248      44.288691\n",
       "min        -1.408605      -0.848218     -12.088328       0.000000\n",
       "25%        -0.072580      -0.200881       0.287748      56.497507\n",
       "50%         0.502360       0.250252       2.515969      91.849972\n",
       "75%         1.073581       0.700646       4.715088     128.564089\n",
       "max         2.362331       1.343769      16.003790     185.364347"
      ]
     },
     "execution_count": 3,
     "metadata": {},
     "output_type": "execute_result"
    }
   ],
   "source": [
    "geo_0.describe()"
   ]
  },
  {
   "cell_type": "code",
   "execution_count": 4,
   "metadata": {},
   "outputs": [
    {
     "name": "stdout",
     "output_type": "stream",
     "text": [
      "<class 'pandas.core.frame.DataFrame'>\n",
      "RangeIndex: 100000 entries, 0 to 99999\n",
      "Data columns (total 5 columns):\n",
      " #   Column   Non-Null Count   Dtype  \n",
      "---  ------   --------------   -----  \n",
      " 0   id       100000 non-null  object \n",
      " 1   f0       100000 non-null  float64\n",
      " 2   f1       100000 non-null  float64\n",
      " 3   f2       100000 non-null  float64\n",
      " 4   product  100000 non-null  float64\n",
      "dtypes: float64(4), object(1)\n",
      "memory usage: 3.8+ MB\n"
     ]
    }
   ],
   "source": [
    "geo_1 = pd.read_csv('/datasets/geo_data_1.csv')\n",
    "geo_1.info()"
   ]
  },
  {
   "cell_type": "code",
   "execution_count": 5,
   "metadata": {},
   "outputs": [
    {
     "data": {
      "text/html": [
       "<div>\n",
       "<style scoped>\n",
       "    .dataframe tbody tr th:only-of-type {\n",
       "        vertical-align: middle;\n",
       "    }\n",
       "\n",
       "    .dataframe tbody tr th {\n",
       "        vertical-align: top;\n",
       "    }\n",
       "\n",
       "    .dataframe thead th {\n",
       "        text-align: right;\n",
       "    }\n",
       "</style>\n",
       "<table border=\"1\" class=\"dataframe\">\n",
       "  <thead>\n",
       "    <tr style=\"text-align: right;\">\n",
       "      <th></th>\n",
       "      <th>f0</th>\n",
       "      <th>f1</th>\n",
       "      <th>f2</th>\n",
       "      <th>product</th>\n",
       "    </tr>\n",
       "  </thead>\n",
       "  <tbody>\n",
       "    <tr>\n",
       "      <th>count</th>\n",
       "      <td>100000.000000</td>\n",
       "      <td>100000.000000</td>\n",
       "      <td>100000.000000</td>\n",
       "      <td>100000.000000</td>\n",
       "    </tr>\n",
       "    <tr>\n",
       "      <th>mean</th>\n",
       "      <td>1.141296</td>\n",
       "      <td>-4.796579</td>\n",
       "      <td>2.494541</td>\n",
       "      <td>68.825000</td>\n",
       "    </tr>\n",
       "    <tr>\n",
       "      <th>std</th>\n",
       "      <td>8.965932</td>\n",
       "      <td>5.119872</td>\n",
       "      <td>1.703572</td>\n",
       "      <td>45.944423</td>\n",
       "    </tr>\n",
       "    <tr>\n",
       "      <th>min</th>\n",
       "      <td>-31.609576</td>\n",
       "      <td>-26.358598</td>\n",
       "      <td>-0.018144</td>\n",
       "      <td>0.000000</td>\n",
       "    </tr>\n",
       "    <tr>\n",
       "      <th>25%</th>\n",
       "      <td>-6.298551</td>\n",
       "      <td>-8.267985</td>\n",
       "      <td>1.000021</td>\n",
       "      <td>26.953261</td>\n",
       "    </tr>\n",
       "    <tr>\n",
       "      <th>50%</th>\n",
       "      <td>1.153055</td>\n",
       "      <td>-4.813172</td>\n",
       "      <td>2.011479</td>\n",
       "      <td>57.085625</td>\n",
       "    </tr>\n",
       "    <tr>\n",
       "      <th>75%</th>\n",
       "      <td>8.621015</td>\n",
       "      <td>-1.332816</td>\n",
       "      <td>3.999904</td>\n",
       "      <td>107.813044</td>\n",
       "    </tr>\n",
       "    <tr>\n",
       "      <th>max</th>\n",
       "      <td>29.421755</td>\n",
       "      <td>18.734063</td>\n",
       "      <td>5.019721</td>\n",
       "      <td>137.945408</td>\n",
       "    </tr>\n",
       "  </tbody>\n",
       "</table>\n",
       "</div>"
      ],
      "text/plain": [
       "                  f0             f1             f2        product\n",
       "count  100000.000000  100000.000000  100000.000000  100000.000000\n",
       "mean        1.141296      -4.796579       2.494541      68.825000\n",
       "std         8.965932       5.119872       1.703572      45.944423\n",
       "min       -31.609576     -26.358598      -0.018144       0.000000\n",
       "25%        -6.298551      -8.267985       1.000021      26.953261\n",
       "50%         1.153055      -4.813172       2.011479      57.085625\n",
       "75%         8.621015      -1.332816       3.999904     107.813044\n",
       "max        29.421755      18.734063       5.019721     137.945408"
      ]
     },
     "execution_count": 5,
     "metadata": {},
     "output_type": "execute_result"
    }
   ],
   "source": [
    "geo_1.describe()"
   ]
  },
  {
   "cell_type": "code",
   "execution_count": 6,
   "metadata": {},
   "outputs": [
    {
     "name": "stdout",
     "output_type": "stream",
     "text": [
      "<class 'pandas.core.frame.DataFrame'>\n",
      "RangeIndex: 100000 entries, 0 to 99999\n",
      "Data columns (total 5 columns):\n",
      " #   Column   Non-Null Count   Dtype  \n",
      "---  ------   --------------   -----  \n",
      " 0   id       100000 non-null  object \n",
      " 1   f0       100000 non-null  float64\n",
      " 2   f1       100000 non-null  float64\n",
      " 3   f2       100000 non-null  float64\n",
      " 4   product  100000 non-null  float64\n",
      "dtypes: float64(4), object(1)\n",
      "memory usage: 3.8+ MB\n"
     ]
    }
   ],
   "source": [
    "geo_2 = pd.read_csv('/datasets/geo_data_2.csv')\n",
    "geo_2.info()"
   ]
  },
  {
   "cell_type": "code",
   "execution_count": 7,
   "metadata": {},
   "outputs": [
    {
     "data": {
      "text/html": [
       "<div>\n",
       "<style scoped>\n",
       "    .dataframe tbody tr th:only-of-type {\n",
       "        vertical-align: middle;\n",
       "    }\n",
       "\n",
       "    .dataframe tbody tr th {\n",
       "        vertical-align: top;\n",
       "    }\n",
       "\n",
       "    .dataframe thead th {\n",
       "        text-align: right;\n",
       "    }\n",
       "</style>\n",
       "<table border=\"1\" class=\"dataframe\">\n",
       "  <thead>\n",
       "    <tr style=\"text-align: right;\">\n",
       "      <th></th>\n",
       "      <th>f0</th>\n",
       "      <th>f1</th>\n",
       "      <th>f2</th>\n",
       "      <th>product</th>\n",
       "    </tr>\n",
       "  </thead>\n",
       "  <tbody>\n",
       "    <tr>\n",
       "      <th>count</th>\n",
       "      <td>100000.000000</td>\n",
       "      <td>100000.000000</td>\n",
       "      <td>100000.000000</td>\n",
       "      <td>100000.000000</td>\n",
       "    </tr>\n",
       "    <tr>\n",
       "      <th>mean</th>\n",
       "      <td>0.002023</td>\n",
       "      <td>-0.002081</td>\n",
       "      <td>2.495128</td>\n",
       "      <td>95.000000</td>\n",
       "    </tr>\n",
       "    <tr>\n",
       "      <th>std</th>\n",
       "      <td>1.732045</td>\n",
       "      <td>1.730417</td>\n",
       "      <td>3.473445</td>\n",
       "      <td>44.749921</td>\n",
       "    </tr>\n",
       "    <tr>\n",
       "      <th>min</th>\n",
       "      <td>-8.760004</td>\n",
       "      <td>-7.084020</td>\n",
       "      <td>-11.970335</td>\n",
       "      <td>0.000000</td>\n",
       "    </tr>\n",
       "    <tr>\n",
       "      <th>25%</th>\n",
       "      <td>-1.162288</td>\n",
       "      <td>-1.174820</td>\n",
       "      <td>0.130359</td>\n",
       "      <td>59.450441</td>\n",
       "    </tr>\n",
       "    <tr>\n",
       "      <th>50%</th>\n",
       "      <td>0.009424</td>\n",
       "      <td>-0.009482</td>\n",
       "      <td>2.484236</td>\n",
       "      <td>94.925613</td>\n",
       "    </tr>\n",
       "    <tr>\n",
       "      <th>75%</th>\n",
       "      <td>1.158535</td>\n",
       "      <td>1.163678</td>\n",
       "      <td>4.858794</td>\n",
       "      <td>130.595027</td>\n",
       "    </tr>\n",
       "    <tr>\n",
       "      <th>max</th>\n",
       "      <td>7.238262</td>\n",
       "      <td>7.844801</td>\n",
       "      <td>16.739402</td>\n",
       "      <td>190.029838</td>\n",
       "    </tr>\n",
       "  </tbody>\n",
       "</table>\n",
       "</div>"
      ],
      "text/plain": [
       "                  f0             f1             f2        product\n",
       "count  100000.000000  100000.000000  100000.000000  100000.000000\n",
       "mean        0.002023      -0.002081       2.495128      95.000000\n",
       "std         1.732045       1.730417       3.473445      44.749921\n",
       "min        -8.760004      -7.084020     -11.970335       0.000000\n",
       "25%        -1.162288      -1.174820       0.130359      59.450441\n",
       "50%         0.009424      -0.009482       2.484236      94.925613\n",
       "75%         1.158535       1.163678       4.858794     130.595027\n",
       "max         7.238262       7.844801      16.739402     190.029838"
      ]
     },
     "execution_count": 7,
     "metadata": {},
     "output_type": "execute_result"
    }
   ],
   "source": [
    "geo_2.describe()"
   ]
  },
  {
   "cell_type": "markdown",
   "metadata": {},
   "source": [
    "## Train and test the model for each region"
   ]
  },
  {
   "cell_type": "code",
   "execution_count": 8,
   "metadata": {},
   "outputs": [],
   "source": [
    "def train_test_model (features, target,region):\n",
    "    features_train, features_valid, target_train, target_valid = train_test_split(\n",
    "        features, target, test_size=0.25, random_state=12345)\n",
    "    model = LinearRegression()\n",
    "    model.fit(features_train, target_train)\n",
    "    predicted_valid = model.predict(features_valid)\n",
    "    predicted_valid_mean=predicted_valid.mean()\n",
    "    mse = mean_squared_error(target_valid, predicted_valid)\n",
    "    rmse = mse ** 0.5\n",
    "    print('For the region',region)\n",
    "    print('RMSE =', rmse)\n",
    "    print('Average volume of predicted reserves:', predicted_valid_mean)\n",
    "    return target_valid, predicted_valid"
   ]
  },
  {
   "cell_type": "code",
   "execution_count": 9,
   "metadata": {},
   "outputs": [],
   "source": [
    "y_0 = geo_0['product']\n",
    "x_0 = geo_0.drop(['product','id'], axis=1)\n",
    "\n",
    "y_1 = geo_1['product']\n",
    "x_1 = geo_1.drop(['product','id'], axis=1)\n",
    "\n",
    "y_2 = geo_2['product']\n",
    "x_2 = geo_2.drop(['product','id'], axis=1)"
   ]
  },
  {
   "cell_type": "code",
   "execution_count": 10,
   "metadata": {},
   "outputs": [
    {
     "name": "stdout",
     "output_type": "stream",
     "text": [
      "For the region 0\n",
      "RMSE = 37.5794217150813\n",
      "Average volume of predicted reserves: 92.59256778438035\n",
      "For the region 1\n",
      "RMSE = 0.893099286775617\n",
      "Average volume of predicted reserves: 68.728546895446\n",
      "For the region 2\n",
      "RMSE = 40.02970873393434\n",
      "Average volume of predicted reserves: 94.96504596800489\n"
     ]
    }
   ],
   "source": [
    "y_0_valid, predicted_valid_0 = train_test_model(x_0,y_0,0)\n",
    "y_1_valid, predicted_valid_1 = train_test_model(x_1,y_1,1)\n",
    "y_2_valid, predicted_valid_2 = train_test_model(x_2,y_2,2)"
   ]
  },
  {
   "cell_type": "markdown",
   "metadata": {},
   "source": [
    "The average volume of predicted reserves is higher for regions 0 and 2, however, RMSE is very high as well, which makes the model predictions unreliable.\n",
    "\n",
    "The average volume of predicted reserves is not as high in region 1, but the model seems to be of a high quality based on its RMSE.\n"
   ]
  },
  {
   "cell_type": "markdown",
   "metadata": {},
   "source": [
    "## Prepare for profit calculation"
   ]
  },
  {
   "cell_type": "markdown",
   "metadata": {},
   "source": [
    "When exploring the region, a study of 500 points is carried with picking the best 200 points for the profit calculation.\n",
    "\n",
    "The budget for development of 200 oil wells is 100 USD million.\n",
    "\n",
    "One barrel of raw materials brings 4.5 USD of revenue The revenue from one unit of product is 4,500 dollars (volume of reserves is in thousand barrels).\n",
    "\n",
    "After the risk evaluation, keep only the regions with the risk of losses lower than 2.5%. From the ones that fit the criteria, the region with the highest average profit should be selected."
   ]
  },
  {
   "cell_type": "code",
   "execution_count": 11,
   "metadata": {},
   "outputs": [],
   "source": [
    "points=500\n",
    "best_points=200\n",
    "budget = 100e+6\n",
    "revenue_per_unit = 4500\n",
    "unit=1000\n",
    "risk=0.025"
   ]
  },
  {
   "cell_type": "code",
   "execution_count": 12,
   "metadata": {},
   "outputs": [
    {
     "name": "stdout",
     "output_type": "stream",
     "text": [
      "Minimum required volume of the product: 111.11111111111111\n"
     ]
    }
   ],
   "source": [
    "product_min = budget / (best_points * revenue_per_unit)\n",
    "print('Minimum required volume of the product:',product_min)"
   ]
  },
  {
   "cell_type": "markdown",
   "metadata": {},
   "source": [
    "Minimum required volume of the product exceeds the average volume of predicted reserves for all regions."
   ]
  },
  {
   "cell_type": "markdown",
   "metadata": {},
   "source": [
    "## Profit from a set of selected oil wells and model predictions"
   ]
  },
  {
   "cell_type": "code",
   "execution_count": 13,
   "metadata": {},
   "outputs": [],
   "source": [
    "def set_profit (predicted_valid,y_valid,region):\n",
    "    data={'predicted':predicted_valid, 'target':y_valid}\n",
    "    reserves=pd.DataFrame(data).reset_index(drop=True)\n",
    "    top_200 =reserves.sort_values('predicted',ascending = False).head(200)\n",
    "    sum_target = top_200['target'].sum()\n",
    "    profit = (revenue_per_unit*sum_target)-budget\n",
    "    print('For the region',region)\n",
    "    print('Summarized target volume of reserves:',sum_target)\n",
    "    print('Profit for the obtained volume of reserves:',profit)\n",
    "    return profit"
   ]
  },
  {
   "cell_type": "code",
   "execution_count": 14,
   "metadata": {},
   "outputs": [
    {
     "name": "stdout",
     "output_type": "stream",
     "text": [
      "For the region 0\n",
      "Summarized target volume of reserves: 29601.83565142189\n",
      "Profit for the obtained volume of reserves: 33208260.43139851\n",
      "For the region 1\n",
      "Summarized target volume of reserves: 27589.081548181137\n",
      "Profit for the obtained volume of reserves: 24150866.966815114\n",
      "For the region 2\n",
      "Summarized target volume of reserves: 28245.22214133296\n",
      "Profit for the obtained volume of reserves: 27103499.635998324\n"
     ]
    }
   ],
   "source": [
    "top_200_0=set_profit(predicted_valid_0,y_0_valid,0)\n",
    "top_200_1=set_profit(predicted_valid_1,y_1_valid,1)\n",
    "top_200_2=set_profit(predicted_valid_2,y_2_valid,2)"
   ]
  },
  {
   "cell_type": "markdown",
   "metadata": {},
   "source": [
    "For now, we can say that region 0 is the most profitable."
   ]
  },
  {
   "cell_type": "markdown",
   "metadata": {},
   "source": [
    "## Risks and profit for each region"
   ]
  },
  {
   "cell_type": "code",
   "execution_count": 15,
   "metadata": {},
   "outputs": [],
   "source": [
    "y_0_valid = pd.Series(y_0_valid).reset_index(drop=True)\n",
    "y_1_valid = pd.Series(y_1_valid).reset_index(drop=True)\n",
    "y_2_valid = pd.Series(y_2_valid).reset_index(drop=True)\n",
    "\n",
    "predicted_valid_0 = pd.Series(*predicted_valid_0.reshape(1,-1))\n",
    "predicted_valid_1 = pd.Series(*predicted_valid_1.reshape(1,-1))\n",
    "predicted_valid_2 = pd.Series(*predicted_valid_2.reshape(1,-1))"
   ]
  },
  {
   "cell_type": "code",
   "execution_count": 16,
   "metadata": {},
   "outputs": [],
   "source": [
    "def profit(target, predicted_valid, count):\n",
    "    predicted_sorted = predicted_valid.sort_values(ascending=False)\n",
    "    selected = target[predicted_sorted.index][:count]\n",
    "    sum_target = selected.sum()\n",
    "    profit = (revenue_per_unit*sum_target)-budget    \n",
    "    return profit"
   ]
  },
  {
   "cell_type": "code",
   "execution_count": 44,
   "metadata": {},
   "outputs": [],
   "source": [
    "\n",
    "def bootstrap_profit(y_valid,predicted_valid,count,region):\n",
    "    state = np.random.RandomState(12345)\n",
    "    values = []\n",
    "    for i in range(1000):\n",
    "        target_subsample = y_valid.sample(n=500, replace=True, random_state=state)\n",
    "        predicted_subsample = predicted_valid[target_subsample.index]\n",
    "        profit_0 = profit(target_subsample,predicted_subsample,count)\n",
    "        values.append(profit_0)\n",
    "\n",
    "    values = pd.Series(values)\n",
    "    mean = values.mean()\n",
    "    lower = values.quantile(0.025)\n",
    "    upper =  values.quantile(0.975)\n",
    "    loss = values[values<0].count()\n",
    "    risk = (loss/values.count())*100\n",
    "    print('For the region',region,':')\n",
    "    print('Average profit:{:.2f}'.format(mean))\n",
    "    print('95% confidence interval:{:.2f}'.format(lower),'to {:.2f}'.format(upper))\n",
    "    print('Risk of losses:',risk,'%')\n",
    "    return mean,lower,upper,risk\n"
   ]
  },
  {
   "cell_type": "code",
   "execution_count": 45,
   "metadata": {},
   "outputs": [
    {
     "name": "stdout",
     "output_type": "stream",
     "text": [
      "For the region 0 :\n",
      "Average profit:4259385.27\n",
      "95% confidence interval:-1020900.95 to 9479763.53\n",
      "Risk of losses: 6.0 %\n",
      "For the region 1 :\n",
      "Average profit:5152227.73\n",
      "95% confidence interval:688732.25 to 9315475.91\n",
      "Risk of losses: 1.0 %\n",
      "For the region 2 :\n",
      "Average profit:4350083.63\n",
      "95% confidence interval:-1288805.47 to 9697069.54\n",
      "Risk of losses: 6.4 %\n"
     ]
    }
   ],
   "source": [
    "mean_0,lower_0,upper_0,risk_0=bootstrap_profit(y_0_valid,predicted_valid_0,200,0)\n",
    "mean_1,lower_1,upper_1,risk_1=bootstrap_profit(y_1_valid,predicted_valid_1,200,1)\n",
    "mean_2,lower_2,upper_2,risk_2=bootstrap_profit(y_2_valid,predicted_valid_2,200,2)"
   ]
  },
  {
   "cell_type": "markdown",
   "metadata": {},
   "source": [
    "Now we can recommend developing wells in region 1. It has the biggest average profit from reserves and the lowest risk of losses. It also provides profit within the 95% confidence interval."
   ]
  }
 ],
 "metadata": {
  "ExecuteTimeLog": [
   {
    "duration": 1561,
    "start_time": "2022-04-04T11:17:12.118Z"
   },
   {
    "duration": 136,
    "start_time": "2022-04-04T11:17:56.709Z"
   },
   {
    "duration": 123,
    "start_time": "2022-04-04T11:18:09.821Z"
   },
   {
    "duration": 123,
    "start_time": "2022-04-04T11:18:30.500Z"
   },
   {
    "duration": 36,
    "start_time": "2022-04-04T11:18:45.028Z"
   },
   {
    "duration": 33,
    "start_time": "2022-04-04T11:19:09.588Z"
   },
   {
    "duration": 31,
    "start_time": "2022-04-04T11:19:17.875Z"
   },
   {
    "duration": 12,
    "start_time": "2022-04-05T10:49:42.427Z"
   },
   {
    "duration": 64,
    "start_time": "2022-04-05T10:53:34.982Z"
   },
   {
    "duration": 9,
    "start_time": "2022-04-05T10:53:46.121Z"
   },
   {
    "duration": 8,
    "start_time": "2022-04-05T10:53:56.144Z"
   },
   {
    "duration": 2151,
    "start_time": "2022-04-05T10:53:59.673Z"
   },
   {
    "duration": 159,
    "start_time": "2022-04-05T10:54:01.827Z"
   },
   {
    "duration": 50,
    "start_time": "2022-04-05T10:54:01.988Z"
   },
   {
    "duration": 168,
    "start_time": "2022-04-05T10:54:02.042Z"
   },
   {
    "duration": 55,
    "start_time": "2022-04-05T10:54:02.213Z"
   },
   {
    "duration": 155,
    "start_time": "2022-04-05T10:54:02.271Z"
   },
   {
    "duration": 58,
    "start_time": "2022-04-05T10:54:02.428Z"
   },
   {
    "duration": 6,
    "start_time": "2022-04-05T10:54:02.488Z"
   },
   {
    "duration": 27,
    "start_time": "2022-04-05T10:54:02.496Z"
   },
   {
    "duration": 14,
    "start_time": "2022-04-05T10:54:32.176Z"
   },
   {
    "duration": 7,
    "start_time": "2022-04-05T10:54:40.256Z"
   },
   {
    "duration": 173,
    "start_time": "2022-04-05T10:54:40.265Z"
   },
   {
    "duration": 58,
    "start_time": "2022-04-05T10:54:40.440Z"
   },
   {
    "duration": 171,
    "start_time": "2022-04-05T10:54:40.501Z"
   },
   {
    "duration": 45,
    "start_time": "2022-04-05T10:54:40.674Z"
   },
   {
    "duration": 181,
    "start_time": "2022-04-05T10:54:40.721Z"
   },
   {
    "duration": 46,
    "start_time": "2022-04-05T10:54:40.905Z"
   },
   {
    "duration": 5,
    "start_time": "2022-04-05T10:54:40.968Z"
   },
   {
    "duration": 15,
    "start_time": "2022-04-05T10:54:40.976Z"
   },
   {
    "duration": 107,
    "start_time": "2022-04-05T10:55:08.352Z"
   },
   {
    "duration": 15,
    "start_time": "2022-04-05T10:55:25.343Z"
   },
   {
    "duration": 6,
    "start_time": "2022-04-05T10:55:28.207Z"
   },
   {
    "duration": 228,
    "start_time": "2022-04-05T10:55:29.542Z"
   },
   {
    "duration": 6,
    "start_time": "2022-04-05T10:55:49.599Z"
   },
   {
    "duration": 67,
    "start_time": "2022-04-05T10:55:53.902Z"
   },
   {
    "duration": 63,
    "start_time": "2022-04-05T10:56:55.405Z"
   },
   {
    "duration": 406,
    "start_time": "2022-04-05T10:57:32.966Z"
   },
   {
    "duration": 12,
    "start_time": "2022-04-05T10:58:37.803Z"
   },
   {
    "duration": 6,
    "start_time": "2022-04-05T10:58:41.187Z"
   },
   {
    "duration": 395,
    "start_time": "2022-04-05T10:58:42.579Z"
   },
   {
    "duration": 4,
    "start_time": "2022-04-05T12:21:22.788Z"
   },
   {
    "duration": 5,
    "start_time": "2022-04-05T12:26:06.861Z"
   },
   {
    "duration": 5,
    "start_time": "2022-04-05T12:42:08.819Z"
   },
   {
    "duration": 10,
    "start_time": "2022-04-05T13:50:11.043Z"
   },
   {
    "duration": 5,
    "start_time": "2022-04-05T13:50:22.413Z"
   },
   {
    "duration": 50,
    "start_time": "2022-04-06T11:36:41.242Z"
   },
   {
    "duration": 1845,
    "start_time": "2022-04-06T11:36:44.630Z"
   },
   {
    "duration": 136,
    "start_time": "2022-04-06T11:36:46.478Z"
   },
   {
    "duration": 41,
    "start_time": "2022-04-06T11:36:46.616Z"
   },
   {
    "duration": 141,
    "start_time": "2022-04-06T11:36:46.660Z"
   },
   {
    "duration": 36,
    "start_time": "2022-04-06T11:36:46.803Z"
   },
   {
    "duration": 141,
    "start_time": "2022-04-06T11:36:46.841Z"
   },
   {
    "duration": 47,
    "start_time": "2022-04-06T11:36:46.985Z"
   },
   {
    "duration": 4,
    "start_time": "2022-04-06T11:36:47.034Z"
   },
   {
    "duration": 27,
    "start_time": "2022-04-06T11:36:47.040Z"
   },
   {
    "duration": 433,
    "start_time": "2022-04-06T11:36:47.070Z"
   },
   {
    "duration": 4,
    "start_time": "2022-04-06T11:36:47.505Z"
   },
   {
    "duration": 4,
    "start_time": "2022-04-06T11:36:47.602Z"
   },
   {
    "duration": 118,
    "start_time": "2022-04-06T11:36:47.608Z"
   },
   {
    "duration": 11,
    "start_time": "2022-04-06T11:36:51.611Z"
   },
   {
    "duration": 5,
    "start_time": "2022-04-06T11:37:03.860Z"
   },
   {
    "duration": 3,
    "start_time": "2022-04-06T11:44:44.349Z"
   },
   {
    "duration": 143,
    "start_time": "2022-04-06T11:46:17.943Z"
   },
   {
    "duration": 134,
    "start_time": "2022-04-06T11:46:28.887Z"
   },
   {
    "duration": 10,
    "start_time": "2022-04-06T11:46:39.562Z"
   },
   {
    "duration": 12,
    "start_time": "2022-04-06T11:46:51.523Z"
   },
   {
    "duration": 13,
    "start_time": "2022-04-06T11:49:05.862Z"
   },
   {
    "duration": 13,
    "start_time": "2022-04-06T11:49:12.689Z"
   },
   {
    "duration": 22,
    "start_time": "2022-04-06T11:49:25.608Z"
   },
   {
    "duration": 13,
    "start_time": "2022-04-06T11:49:44.378Z"
   },
   {
    "duration": 11,
    "start_time": "2022-04-06T11:50:30.720Z"
   },
   {
    "duration": 4,
    "start_time": "2022-04-06T11:52:11.015Z"
   },
   {
    "duration": 12,
    "start_time": "2022-04-06T11:52:19.686Z"
   },
   {
    "duration": 10,
    "start_time": "2022-04-06T12:00:28.990Z"
   },
   {
    "duration": 10,
    "start_time": "2022-04-06T12:01:16.939Z"
   },
   {
    "duration": 11,
    "start_time": "2022-04-06T12:01:55.901Z"
   },
   {
    "duration": 9,
    "start_time": "2022-04-06T12:02:50.493Z"
   },
   {
    "duration": 7,
    "start_time": "2022-04-06T12:03:16.933Z"
   },
   {
    "duration": 6,
    "start_time": "2022-04-06T12:03:40.339Z"
   },
   {
    "duration": 4,
    "start_time": "2022-04-06T12:04:18.843Z"
   },
   {
    "duration": 4,
    "start_time": "2022-04-06T12:11:08.826Z"
   },
   {
    "duration": 15,
    "start_time": "2022-04-06T12:11:33.589Z"
   },
   {
    "duration": 9,
    "start_time": "2022-04-06T12:12:14.786Z"
   },
   {
    "duration": 10,
    "start_time": "2022-04-06T12:12:23.021Z"
   },
   {
    "duration": 20,
    "start_time": "2022-04-06T12:12:49.524Z"
   },
   {
    "duration": 4,
    "start_time": "2022-04-06T13:22:07.584Z"
   },
   {
    "duration": 18,
    "start_time": "2022-04-06T13:22:08.243Z"
   },
   {
    "duration": 13,
    "start_time": "2022-04-06T14:41:42.534Z"
   },
   {
    "duration": 6,
    "start_time": "2022-04-06T14:45:53.793Z"
   },
   {
    "duration": 9,
    "start_time": "2022-04-06T14:46:03.729Z"
   },
   {
    "duration": 5,
    "start_time": "2022-04-06T14:46:10.571Z"
   },
   {
    "duration": 1829,
    "start_time": "2022-04-06T14:47:02.296Z"
   },
   {
    "duration": 8,
    "start_time": "2022-04-06T14:47:12.790Z"
   },
   {
    "duration": 10,
    "start_time": "2022-04-06T14:47:34.425Z"
   },
   {
    "duration": 6,
    "start_time": "2022-04-06T14:47:43.855Z"
   },
   {
    "duration": 14,
    "start_time": "2022-04-06T14:48:22.124Z"
   },
   {
    "duration": 14,
    "start_time": "2022-04-06T14:48:49.951Z"
   },
   {
    "duration": 13,
    "start_time": "2022-04-06T14:49:05.332Z"
   },
   {
    "duration": 5,
    "start_time": "2022-04-06T14:49:14.331Z"
   },
   {
    "duration": 148,
    "start_time": "2022-04-06T14:49:14.339Z"
   },
   {
    "duration": 41,
    "start_time": "2022-04-06T14:49:14.489Z"
   },
   {
    "duration": 147,
    "start_time": "2022-04-06T14:49:14.532Z"
   },
   {
    "duration": 50,
    "start_time": "2022-04-06T14:49:14.681Z"
   },
   {
    "duration": 139,
    "start_time": "2022-04-06T14:49:14.733Z"
   },
   {
    "duration": 44,
    "start_time": "2022-04-06T14:49:14.874Z"
   },
   {
    "duration": 4,
    "start_time": "2022-04-06T14:49:14.920Z"
   },
   {
    "duration": 10,
    "start_time": "2022-04-06T14:49:14.927Z"
   },
   {
    "duration": 368,
    "start_time": "2022-04-06T14:49:14.939Z"
   },
   {
    "duration": 94,
    "start_time": "2022-04-06T14:49:15.311Z"
   },
   {
    "duration": 110,
    "start_time": "2022-04-06T14:49:15.408Z"
   },
   {
    "duration": 7,
    "start_time": "2022-04-06T14:49:15.520Z"
   },
   {
    "duration": 26,
    "start_time": "2022-04-06T14:49:15.528Z"
   },
   {
    "duration": 6,
    "start_time": "2022-04-06T14:49:18.074Z"
   },
   {
    "duration": 13,
    "start_time": "2022-04-06T14:49:22.060Z"
   },
   {
    "duration": 2495,
    "start_time": "2022-04-06T14:49:33.729Z"
   },
   {
    "duration": 11,
    "start_time": "2022-04-06T14:59:36.897Z"
   },
   {
    "duration": 15,
    "start_time": "2022-04-06T15:00:22.962Z"
   },
   {
    "duration": 12,
    "start_time": "2022-04-06T15:00:52.346Z"
   },
   {
    "duration": 12,
    "start_time": "2022-04-06T15:01:09.374Z"
   },
   {
    "duration": 5,
    "start_time": "2022-04-06T15:03:26.413Z"
   },
   {
    "duration": 144,
    "start_time": "2022-04-06T15:03:26.420Z"
   },
   {
    "duration": 44,
    "start_time": "2022-04-06T15:03:26.566Z"
   },
   {
    "duration": 137,
    "start_time": "2022-04-06T15:03:26.612Z"
   },
   {
    "duration": 36,
    "start_time": "2022-04-06T15:03:26.750Z"
   },
   {
    "duration": 140,
    "start_time": "2022-04-06T15:03:26.800Z"
   },
   {
    "duration": 36,
    "start_time": "2022-04-06T15:03:26.942Z"
   },
   {
    "duration": 5,
    "start_time": "2022-04-06T15:03:26.979Z"
   },
   {
    "duration": 8,
    "start_time": "2022-04-06T15:03:27.002Z"
   },
   {
    "duration": 394,
    "start_time": "2022-04-06T15:03:27.012Z"
   },
   {
    "duration": 93,
    "start_time": "2022-04-06T15:03:27.408Z"
   },
   {
    "duration": 4,
    "start_time": "2022-04-06T15:03:27.503Z"
   },
   {
    "duration": 10,
    "start_time": "2022-04-06T15:03:27.509Z"
   },
   {
    "duration": 21,
    "start_time": "2022-04-06T15:03:27.600Z"
   },
   {
    "duration": 6,
    "start_time": "2022-04-06T15:03:27.623Z"
   },
   {
    "duration": 11,
    "start_time": "2022-04-06T15:03:27.631Z"
   },
   {
    "duration": 1222,
    "start_time": "2022-04-06T15:03:30.315Z"
   },
   {
    "duration": 14,
    "start_time": "2022-04-06T15:32:09.106Z"
   },
   {
    "duration": 6,
    "start_time": "2022-04-06T15:32:59.602Z"
   },
   {
    "duration": 6,
    "start_time": "2022-04-06T15:33:32.713Z"
   },
   {
    "duration": 5,
    "start_time": "2022-04-06T15:33:35.950Z"
   },
   {
    "duration": 6,
    "start_time": "2022-04-06T15:34:32.363Z"
   },
   {
    "duration": 1722,
    "start_time": "2022-04-06T16:56:32.448Z"
   },
   {
    "duration": 155,
    "start_time": "2022-04-06T16:56:34.172Z"
   },
   {
    "duration": 42,
    "start_time": "2022-04-06T16:56:34.329Z"
   },
   {
    "duration": 144,
    "start_time": "2022-04-06T16:56:34.373Z"
   },
   {
    "duration": 46,
    "start_time": "2022-04-06T16:56:34.519Z"
   },
   {
    "duration": 142,
    "start_time": "2022-04-06T16:56:34.566Z"
   },
   {
    "duration": 49,
    "start_time": "2022-04-06T16:56:34.710Z"
   },
   {
    "duration": 4,
    "start_time": "2022-04-06T16:56:34.761Z"
   },
   {
    "duration": 11,
    "start_time": "2022-04-06T16:56:34.767Z"
   },
   {
    "duration": 263,
    "start_time": "2022-04-06T16:56:34.780Z"
   },
   {
    "duration": 94,
    "start_time": "2022-04-06T16:56:35.045Z"
   },
   {
    "duration": 98,
    "start_time": "2022-04-06T16:56:35.141Z"
   },
   {
    "duration": 10,
    "start_time": "2022-04-06T16:56:35.241Z"
   },
   {
    "duration": 30,
    "start_time": "2022-04-06T16:56:35.254Z"
   },
   {
    "duration": 6,
    "start_time": "2022-04-06T16:56:35.286Z"
   },
   {
    "duration": 8,
    "start_time": "2022-04-06T16:56:35.294Z"
   },
   {
    "duration": 171,
    "start_time": "2022-04-06T16:56:35.303Z"
   },
   {
    "duration": 5,
    "start_time": "2022-04-06T16:56:45.534Z"
   },
   {
    "duration": 1437,
    "start_time": "2022-04-06T16:58:02.646Z"
   },
   {
    "duration": 5,
    "start_time": "2022-04-06T16:58:57.150Z"
   },
   {
    "duration": 1323,
    "start_time": "2022-04-06T16:58:58.384Z"
   },
   {
    "duration": 5,
    "start_time": "2022-04-06T17:03:49.244Z"
   },
   {
    "duration": 1341,
    "start_time": "2022-04-06T17:03:51.896Z"
   },
   {
    "duration": 3963,
    "start_time": "2022-04-06T17:05:26.105Z"
   },
   {
    "duration": 5,
    "start_time": "2022-04-06T17:05:37.069Z"
   },
   {
    "duration": 4091,
    "start_time": "2022-04-06T17:05:43.000Z"
   },
   {
    "duration": 5,
    "start_time": "2022-04-06T17:07:43.642Z"
   },
   {
    "duration": 112,
    "start_time": "2022-04-06T17:07:46.473Z"
   },
   {
    "duration": 3976,
    "start_time": "2022-04-06T17:07:54.364Z"
   },
   {
    "duration": 12,
    "start_time": "2022-04-06T17:10:09.392Z"
   },
   {
    "duration": 12,
    "start_time": "2022-04-06T17:10:27.069Z"
   },
   {
    "duration": 12,
    "start_time": "2022-04-06T17:10:37.901Z"
   },
   {
    "duration": 1346,
    "start_time": "2022-04-06T17:10:49.132Z"
   },
   {
    "duration": 1340,
    "start_time": "2022-04-06T17:10:58.973Z"
   },
   {
    "duration": 1372,
    "start_time": "2022-04-06T17:11:02.552Z"
   },
   {
    "duration": 5,
    "start_time": "2022-04-06T17:12:39.760Z"
   },
   {
    "duration": 4089,
    "start_time": "2022-04-06T17:12:40.519Z"
   },
   {
    "duration": 6,
    "start_time": "2022-04-06T17:22:43.120Z"
   },
   {
    "duration": 4277,
    "start_time": "2022-04-06T17:22:46.259Z"
   },
   {
    "duration": 170,
    "start_time": "2022-04-06T17:23:27.264Z"
   },
   {
    "duration": 164,
    "start_time": "2022-04-06T17:23:36.804Z"
   },
   {
    "duration": 5,
    "start_time": "2022-04-06T17:23:44.728Z"
   },
   {
    "duration": 4256,
    "start_time": "2022-04-06T17:23:47.909Z"
   },
   {
    "duration": 6,
    "start_time": "2022-04-06T17:24:01.008Z"
   },
   {
    "duration": 4247,
    "start_time": "2022-04-06T17:24:02.290Z"
   }
  ],
  "kernelspec": {
   "display_name": "Python 3 (ipykernel)",
   "language": "python",
   "name": "python3"
  },
  "language_info": {
   "codemirror_mode": {
    "name": "ipython",
    "version": 3
   },
   "file_extension": ".py",
   "mimetype": "text/x-python",
   "name": "python",
   "nbconvert_exporter": "python",
   "pygments_lexer": "ipython3",
   "version": "3.9.12"
  },
  "toc": {
   "base_numbering": 1,
   "nav_menu": {},
   "number_sections": true,
   "sideBar": true,
   "skip_h1_title": true,
   "title_cell": "Table of Contents",
   "title_sidebar": "Contents",
   "toc_cell": false,
   "toc_position": {},
   "toc_section_display": true,
   "toc_window_display": false
  }
 },
 "nbformat": 4,
 "nbformat_minor": 2
}
